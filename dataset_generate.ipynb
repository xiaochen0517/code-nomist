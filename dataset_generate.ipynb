{
 "cells": [
  {
   "cell_type": "markdown",
   "id": "e2ab8cbb-7f7b-4888-a750-3cdbaf060834",
   "metadata": {},
   "source": [
    "# 数据集生成"
   ]
  },
  {
   "cell_type": "markdown",
   "id": "a15b2c17-8dfe-47a3-b1cb-e150b40639b2",
   "metadata": {},
   "source": [
    "## 环境配置读取"
   ]
  },
  {
   "cell_type": "code",
   "id": "f40db999-60d7-4da1-81c8-770350d67301",
   "metadata": {
    "ExecuteTime": {
     "end_time": "2025-04-15T06:26:54.738670Z",
     "start_time": "2025-04-15T06:26:54.728174Z"
    }
   },
   "source": [
    "import tomllib\n",
    "\n",
    "\n",
    "def read_toml_config(file_path):\n",
    "    with open(file_path, \"rb\") as f:\n",
    "        config = tomllib.load(f)\n",
    "    return config"
   ],
   "outputs": [],
   "execution_count": 1
  },
  {
   "cell_type": "code",
   "id": "4acbae5c-0ec4-4d7b-bea1-0ec880d9cccf",
   "metadata": {
    "ExecuteTime": {
     "end_time": "2025-04-15T06:26:56.035629Z",
     "start_time": "2025-04-15T06:26:56.032133Z"
    }
   },
   "source": [
    "# 读取环境配置\n",
    "config = read_toml_config(\"config.toml\")"
   ],
   "outputs": [],
   "execution_count": 2
  },
  {
   "cell_type": "markdown",
   "id": "2752c825-efab-4acc-aaf4-22146f2bc247",
   "metadata": {},
   "source": [
    "## 配置大模型API"
   ]
  },
  {
   "cell_type": "code",
   "id": "bea82b09-e5f7-4d9f-aa25-d3b24ea56bb6",
   "metadata": {
    "ExecuteTime": {
     "end_time": "2025-04-15T05:30:32.900689Z",
     "start_time": "2025-04-15T05:30:32.026054Z"
    }
   },
   "source": [
    "from openai import OpenAI\n",
    "\n",
    "client = OpenAI(api_key=config.get(\"API_KEY\"), base_url=config.get(\"BASE_URL\"))"
   ],
   "outputs": [],
   "execution_count": 3
  },
  {
   "cell_type": "markdown",
   "id": "cfdfe4eb62f03eb1",
   "metadata": {},
   "source": [
    "包装发送消息的函数"
   ]
  },
  {
   "cell_type": "code",
   "id": "eb3663735253a567",
   "metadata": {
    "ExecuteTime": {
     "end_time": "2025-04-15T05:30:35.310160Z",
     "start_time": "2025-04-15T05:30:35.305144Z"
    }
   },
   "source": [
    "def send_message_to_model(user_content, prompt=\"You are a helpful assistant\", json_type=True):\n",
    "    format_type = \"text\"\n",
    "    if json_type:\n",
    "        format_type = \"json_object\"\n",
    "    response = client.chat.completions.create(\n",
    "        model=config.get(\"MODEL_NAME\"),\n",
    "        messages=[\n",
    "            {\"role\": \"system\", \"content\": prompt},\n",
    "            {\"role\": \"user\", \"content\": user_content},\n",
    "        ],\n",
    "        stream=False,\n",
    "        response_format={\n",
    "            \"type\": format_type,\n",
    "        }\n",
    "    )\n",
    "    return response.choices[0].message.content"
   ],
   "outputs": [],
   "execution_count": 4
  },
  {
   "cell_type": "markdown",
   "id": "cd7937aa77404fbe",
   "metadata": {},
   "source": [
    "测试接口状态"
   ]
  },
  {
   "cell_type": "code",
   "id": "abf24afaf0b97041",
   "metadata": {
    "ExecuteTime": {
     "end_time": "2025-04-15T05:30:38.847175Z",
     "start_time": "2025-04-15T05:30:37.913550Z"
    }
   },
   "source": [
    "test_response = send_message_to_model(\"Hello\", json_type=False)\n",
    "print(test_response)"
   ],
   "outputs": [
    {
     "name": "stdout",
     "output_type": "stream",
     "text": [
      "Hello! How can I assist you today? 😊\n"
     ]
    }
   ],
   "execution_count": 5
  },
  {
   "metadata": {},
   "cell_type": "markdown",
   "source": "## 行业项目生成",
   "id": "72d2090851d970d0"
  },
  {
   "metadata": {},
   "cell_type": "markdown",
   "source": "提示词定义",
   "id": "f425994d81a83a60"
  },
  {
   "cell_type": "code",
   "id": "6e1b063a-530b-45f1-9345-ed46d87fde81",
   "metadata": {
    "ExecuteTime": {
     "end_time": "2025-04-15T05:31:07.766050Z",
     "start_time": "2025-04-15T05:31:07.762050Z"
    }
   },
   "source": [
    "industry_list = [\n",
    "    \"ERP（企业资源计划）\",\n",
    "    \"CRM（客户关系管理）\",\n",
    "    \"OA（办公自动化）\",\n",
    "    \"HRM（人力资源管理）\",\n",
    "    \"社交应用\",\n",
    "    \"购物\",\n",
    "    \"短视频\",\n",
    "    \"长视频\",\n",
    "    \"嵌入式与物联网\",\n",
    "    \"人工智能与数据科学\",\n",
    "    \"Web与云服务\",\n",
    "    \"科学与工程软件\",\n",
    "    \"区块链与金融科技\",\n",
    "    \"医疗与生命科学\",\n",
    "    \"开发者工具\",\n",
    "]"
   ],
   "outputs": [],
   "execution_count": 6
  },
  {
   "cell_type": "code",
   "id": "21ff7829-cb31-4b4f-a39e-3107e81ea14e",
   "metadata": {
    "ExecuteTime": {
     "end_time": "2025-04-15T05:31:09.975621Z",
     "start_time": "2025-04-15T05:31:09.969162Z"
    }
   },
   "source": [
    "project_prompt_content = \"\"\"\n",
    "请根据用户提供的大致方向，生成对应行业或领域的几个项目类型。\n",
    "\n",
    "需要生成的一个项目中包含两个部分：\n",
    "\n",
    "- name：项目的简单名称。\n",
    "- introduce：简短的减少说明其属于那一个领域和解决的问题。\n",
    "\n",
    "注意，需要遵守以下规则：\n",
    "\n",
    "- 生成的项目数需要在{SIZE}左右，请不要生成过多内容。\n",
    "- 项目的简单介绍请尽可能简洁，请将内容保持在30个字左右。\n",
    "\n",
    "返回的内容需要为JSON字符串类型，大体如以下格式：\n",
    "[{{\n",
    "    \"name\": \"接口自动化系统\",\n",
    "    \"introduce\": \"可以统一管理测试用例，并可以对测试用例进行执行，并提供多种协议的灵活使用。\"\n",
    "}}]\n",
    "\"\"\".format(SIZE=10)\n",
    "\n",
    "project_prompt_content"
   ],
   "outputs": [
    {
     "data": {
      "text/plain": [
       "'\\n请根据用户提供的大致方向，生成对应行业或领域的几个项目类型。\\n\\n需要生成的一个项目中包含两个部分：\\n\\n- name：项目的简单名称。\\n- introduce：简短的减少说明其属于那一个领域和解决的问题。\\n\\n注意，需要遵守以下规则：\\n\\n- 生成的项目数需要在10左右，请不要生成过多内容。\\n- 项目的简单介绍请尽可能简洁，请将内容保持在30个字左右。\\n\\n返回的内容需要为JSON字符串类型，大体如以下格式：\\n[{\\n    \"name\": \"接口自动化系统\",\\n    \"introduce\": \"可以统一管理测试用例，并可以对测试用例进行执行，并提供多种协议的灵活使用。\"\\n}]\\n'"
      ]
     },
     "execution_count": 7,
     "metadata": {},
     "output_type": "execute_result"
    }
   ],
   "execution_count": 7
  },
  {
   "metadata": {
    "ExecuteTime": {
     "end_time": "2025-04-15T05:31:13.963387Z",
     "start_time": "2025-04-15T05:31:13.958683Z"
    }
   },
   "cell_type": "code",
   "source": [
    "import concurrent.futures\n",
    "import threading\n",
    "import json\n",
    "\n",
    "def process_industry(item, index, project_list_lock):\n",
    "    \"\"\"处理单个行业的函数\"\"\"\n",
    "    try:\n",
    "        project_response = send_message_to_model(item, project_prompt_content, json_type=True)\n",
    "        project_parsed = json.loads(project_response)\n",
    "        print(f\"批次 {index + 1} 生成数量为 {len(project_parsed)}\")\n",
    "\n",
    "        # 使用锁保护共享资源\n",
    "        with project_list_lock:\n",
    "            project_list.extend(project_parsed)\n",
    "\n",
    "        return True\n",
    "    except Exception as e:\n",
    "        print(f\"处理 {item} 时发生错误: {e}\")\n",
    "        return False"
   ],
   "id": "e82bed57cd03d97e",
   "outputs": [],
   "execution_count": 8
  },
  {
   "metadata": {},
   "cell_type": "markdown",
   "source": "使用多线程处理行业列表，生成项目列表",
   "id": "e092192cec24531a"
  },
  {
   "metadata": {
    "ExecuteTime": {
     "end_time": "2025-04-15T05:31:47.446616Z",
     "start_time": "2025-04-15T05:31:16.207956Z"
    }
   },
   "cell_type": "code",
   "source": [
    "# 配置线程数\n",
    "max_workers = 5  # 可以根据需要调整线程数\n",
    "\n",
    "project_list = []\n",
    "project_list_lock = threading.Lock()  # 创建锁对象保护共享列表\n",
    "\n",
    "# 使用线程池执行请求\n",
    "with concurrent.futures.ThreadPoolExecutor(max_workers=max_workers) as executor:\n",
    "    # 创建任务列表\n",
    "    futures = [\n",
    "        executor.submit(process_industry, item, index, project_list_lock)\n",
    "        for index, item in enumerate(industry_list)\n",
    "    ]\n",
    "\n",
    "    # 等待所有任务完成\n",
    "    completed = 0\n",
    "    for future in concurrent.futures.as_completed(futures):\n",
    "        if future.result():\n",
    "            completed += 1\n",
    "\n",
    "    print(f\"完成 {completed}/{len(industry_list)} 个行业的处理\")\n",
    "\n",
    "print(f\"总共收集了 {len(project_list)} 个项目\")"
   ],
   "id": "88ecf42ad31065c6",
   "outputs": [
    {
     "name": "stdout",
     "output_type": "stream",
     "text": [
      "批次 1 生成数量为 10\n",
      "批次 3 生成数量为 10\n",
      "批次 4 生成数量为 10\n",
      "批次 2 生成数量为 10\n",
      "批次 5 生成数量为 10\n",
      "批次 6 生成数量为 10\n",
      "批次 9 生成数量为 10\n",
      "批次 8 生成数量为 10\n",
      "批次 7 生成数量为 10\n",
      "批次 10 生成数量为 10\n",
      "批次 11 生成数量为 10\n",
      "批次 12 生成数量为 10\n",
      "批次 13 生成数量为 10\n",
      "批次 15 生成数量为 10\n",
      "批次 14 生成数量为 10\n",
      "完成 15/15 个行业的处理\n",
      "总共收集了 150 个项目\n"
     ]
    }
   ],
   "execution_count": 9
  },
  {
   "metadata": {},
   "cell_type": "markdown",
   "source": "保存项目列表到CSV文件",
   "id": "91dd18aec99e208e"
  },
  {
   "cell_type": "code",
   "id": "eb71c0f5-fc1b-43e2-8220-fd002767f099",
   "metadata": {
    "ExecuteTime": {
     "end_time": "2025-04-15T05:31:55.846032Z",
     "start_time": "2025-04-15T05:31:55.517346Z"
    }
   },
   "source": [
    "import pandas as pd\n",
    "\n",
    "df = pd.DataFrame(project_list)\n",
    "df.to_csv(\"cache/projects.csv\", index=False, columns=[\"name\", \"introduce\"])"
   ],
   "outputs": [],
   "execution_count": 10
  },
  {
   "metadata": {},
   "cell_type": "markdown",
   "source": "## 数据集生成",
   "id": "fa8cdf5384d8b943"
  },
  {
   "metadata": {},
   "cell_type": "markdown",
   "source": "### 提示词定义",
   "id": "692b66401abc03f6"
  },
  {
   "metadata": {
    "ExecuteTime": {
     "end_time": "2025-04-15T06:03:46.903Z",
     "start_time": "2025-04-15T06:03:46.897095Z"
    }
   },
   "cell_type": "code",
   "source": [
    "dataset_prompt_content = \"\"\"\n",
    "当前我需要你帮我生成一个数据集，这个数据集将会用于微调大语言模型。数据集的作用是实现一个函数名生成器，能够根据给定的项目类型、当前模块、目标名称类型、格式化类型和目标描述等信息，生成相应的函数名、类名和变量名等信息。\n",
    "在起名时，需要考虑到项目的行业背景、当前模块的功能、目标名称类型和格式化类型等信息，以便生成符合实际需求的名称。\n",
    "\n",
    "数据集的格式是一个json字符串，包含两个字段：question和answer。其中question字段是一个字符串，包含了以下信息：\n",
    "\n",
    "- 项目类型：项目的类型、名称等标记项目所属行业或领域的标签。\n",
    "- 当前模块：当前正在开发的模块或功能的名称。\n",
    "- 目标名称类型：需要生成的名称类型，如函数名、类名、变量名等。\n",
    "- 格式化类型：生成名称的格式化方式，如驼峰命名、下划线命名等。\n",
    "\n",
    "请注意，需要准守一下几点要求：\n",
    "\n",
    "- 生成的结果的问答对数量应该在{SIZE}个左右，请不要生成过多的问答对。\n",
    "- 生成的结果应该是一个json字符串，包含两个字段：question和answer。\n",
    "- 请根据实际中可能会存在的项目进行生成，尽量不要生成一些不符合实际的项目。\n",
    "- 用户会说明一些行业信息或项目基础信息，请根据用户的说明进行扩展。\n",
    "\n",
    "我需要你生成的内容是一个json字符串，如下示例：\n",
    "[{{\n",
    "    \"question\": \"项目类型：接口自动化系统；项目介绍：可以统一管理测试用例，并可以对测试用例进行执行，并提供多种协议的灵活使用。；当前模块：集合管理模块；目标名称类型：函数名；格式化类型：驼峰命名（首字母小写）；目标描述：获取案例分页列表；生成数量：5；\",\n",
    "    \"answer\": [\"getCaseList\", \"getCasePage\", \"getCaseListPage\", \"getCaseListByPage\", \"selectCaseListByPage\"]\n",
    "}}]\n",
    "\"\"\".format(SIZE=\"20\")\n",
    "\n",
    "dataset_prompt_content"
   ],
   "id": "fbc0aa8c630cf6ac",
   "outputs": [
    {
     "data": {
      "text/plain": [
       "'\\n当前我需要你帮我生成一个数据集，这个数据集将会用于微调大语言模型。数据集的作用是实现一个函数名生成器，能够根据给定的项目类型、当前模块、目标名称类型、格式化类型和目标描述等信息，生成相应的函数名、类名和变量名等信息。\\n在起名时，需要考虑到项目的行业背景、当前模块的功能、目标名称类型和格式化类型等信息，以便生成符合实际需求的名称。\\n\\n数据集的格式是一个json字符串，包含两个字段：question和answer。其中question字段是一个字符串，包含了以下信息：\\n\\n- 项目类型：项目的类型、名称等标记项目所属行业或领域的标签。\\n- 当前模块：当前正在开发的模块或功能的名称。\\n- 目标名称类型：需要生成的名称类型，如函数名、类名、变量名等。\\n- 格式化类型：生成名称的格式化方式，如驼峰命名、下划线命名等。\\n\\n请注意，需要准守一下几点要求：\\n\\n- 生成的结果的问答对数量应该在20个左右，请不要生成过多的问答对。\\n- 生成的结果应该是一个json字符串，包含两个字段：question和answer。\\n- 请根据实际中可能会存在的项目进行生成，尽量不要生成一些不符合实际的项目。\\n- 用户会说明一些行业信息或项目基础信息，请根据用户的说明进行扩展。\\n\\n我需要你生成的内容是一个json字符串，如下示例：\\n[{\\n    \"question\": \"项目类型：接口自动化系统；项目介绍：可以统一管理测试用例，并可以对测试用例进行执行，并提供多种协议的灵活使用。；当前模块：集合管理模块；目标名称类型：函数名；格式化类型：驼峰命名（首字母小写）；目标描述：获取案例分页列表；生成数量：5；\",\\n    \"answer\": [\"getCaseList\", \"getCasePage\", \"getCaseListPage\", \"getCaseListByPage\", \"selectCaseListByPage\"]\\n}]\\n'"
      ]
     },
     "execution_count": 21,
     "metadata": {},
     "output_type": "execute_result"
    }
   ],
   "execution_count": 21
  },
  {
   "metadata": {},
   "cell_type": "markdown",
   "source": "### 测试数据集生成",
   "id": "38661e9c-d525-43df-9238-79a256998844"
  },
  {
   "metadata": {
    "ExecuteTime": {
     "end_time": "2025-04-15T06:02:48.565042Z",
     "start_time": "2025-04-15T06:02:48.557990Z"
    }
   },
   "cell_type": "code",
   "source": [
    "import pandas as pd\n",
    "\n",
    "projects_data = pd.read_csv(\"cache/projects.csv\", encoding=\"utf-8\")\n",
    "\n",
    "projects_data.shape"
   ],
   "id": "ddc2a62a-f790-4e3b-a5c7-7b1cf1dbfc1e",
   "outputs": [
    {
     "data": {
      "text/plain": [
       "(150, 2)"
      ]
     },
     "execution_count": 19,
     "metadata": {},
     "output_type": "execute_result"
    }
   ],
   "execution_count": 19
  },
  {
   "metadata": {
    "ExecuteTime": {
     "end_time": "2025-04-15T05:51:49.257094Z",
     "start_time": "2025-04-15T05:51:49.252677Z"
    }
   },
   "cell_type": "code",
   "source": [
    "for index, (name, introduce) in projects_data.iterrows():\n",
    "    print(f\"项目名称：{name}，项目介绍：{introduce}\")\n",
    "    break"
   ],
   "id": "c3439969-58e4-4192-abd0-71e1910bfc23",
   "outputs": [
    {
     "name": "stdout",
     "output_type": "stream",
     "text": [
      "项目名称：供应链管理，项目介绍：优化企业供应链流程，提高效率并降低成本。\n",
      "项目类型：自动化平台；当前模块：集合管理模块；目标名称类型：函数名；格式化类型：驼峰命名（首字母小写）；目标描述：获取案例分页列表；生成数量：5；\n"
     ]
    }
   ],
   "execution_count": 14
  },
  {
   "cell_type": "code",
   "id": "cd7dba1e-99fb-42f2-a93b-88c8bc7dfad7",
   "metadata": {
    "ExecuteTime": {
     "end_time": "2025-04-15T05:56:03.027899Z",
     "start_time": "2025-04-15T05:56:03.022577Z"
    }
   },
   "source": [
    "import concurrent.futures\n",
    "import threading\n",
    "import json\n",
    "\n",
    "def process_dataset(user_content, index, dataset_list_lock):\n",
    "    \"\"\"处理单个行业的函数\"\"\"\n",
    "    try:\n",
    "        dataset_response = send_message_to_model(user_content, dataset_prompt_content, json_type=True)\n",
    "        dataset_parsed = json.loads(dataset_response)\n",
    "        print(f\"批次 {index + 1} 生成数量为 {len(dataset_parsed)}\")\n",
    "\n",
    "        # 使用锁保护共享资源\n",
    "        with dataset_list_lock:\n",
    "            dataset_list.extend(dataset_parsed)\n",
    "\n",
    "        return True\n",
    "    except Exception as e:\n",
    "        print(f\"处理 {user_content} 时发生错误: {e}\")\n",
    "        return False"
   ],
   "outputs": [],
   "execution_count": 15
  },
  {
   "cell_type": "code",
   "id": "ba6e2e60-e366-4b23-95ef-f63933b4286e",
   "metadata": {
    "ExecuteTime": {
     "end_time": "2025-04-15T06:16:14.493231Z",
     "start_time": "2025-04-15T06:03:54.356074Z"
    }
   },
   "source": [
    "# 配置线程数\n",
    "max_workers = 10  # 可以根据需要调整线程数\n",
    "\n",
    "dataset_list = []\n",
    "dataset_list_lock = threading.Lock()  # 创建锁对象保护共享列表\n",
    "\n",
    "# 使用线程池执行请求\n",
    "with concurrent.futures.ThreadPoolExecutor(max_workers=max_workers) as executor:\n",
    "    # 创建任务列表\n",
    "    futures = [\n",
    "        executor.submit(process_dataset, f\"项目名称：{name}，项目介绍：{introduce}\", i, dataset_list_lock)\n",
    "        for i, (name, introduce) in projects_data.iterrows()\n",
    "    ]\n",
    "\n",
    "    # 等待所有任务完成\n",
    "    completed = 0\n",
    "    for future in concurrent.futures.as_completed(futures):\n",
    "        if future.result():\n",
    "            completed += 1\n",
    "\n",
    "    print(f\"完成 {completed} 个数据集任务的处理\")\n",
    "\n",
    "print(f\"总共收集了 {len(dataset_list)} 个项目\")"
   ],
   "outputs": [
    {
     "name": "stdout",
     "output_type": "stream",
     "text": [
      "批次 8 生成数量为 5\n",
      "批次 9 生成数量为 5\n",
      "批次 1 生成数量为 10\n",
      "批次 4 生成数量为 5\n",
      "批次 2 生成数量为 10\n",
      "批次 5 生成数量为 10\n",
      "批次 12 生成数量为 5\n",
      "批次 14 生成数量为 5\n",
      "批次 7 生成数量为 10\n",
      "批次 15 生成数量为 5\n",
      "批次 13 生成数量为 10\n",
      "批次 11 生成数量为 5\n",
      "批次 16 生成数量为 9\n",
      "批次 17 生成数量为 5\n",
      "批次 10 生成数量为 20\n",
      "批次 3 生成数量为 10\n",
      "批次 20 生成数量为 10\n",
      "批次 18 生成数量为 5\n",
      "批次 25 生成数量为 5\n",
      "批次 26 生成数量为 5\n",
      "批次 19 生成数量为 10\n",
      "批次 24 生成数量为 5\n",
      "批次 28 生成数量为 5\n",
      "批次 22 生成数量为 5\n",
      "批次 32 生成数量为 5\n",
      "批次 31 生成数量为 5\n",
      "批次 29 生成数量为 10\n",
      "批次 27 生成数量为 5\n",
      "批次 21 生成数量为 5\n",
      "批次 6 生成数量为 21\n",
      "批次 34 生成数量为 5\n",
      "批次 35 生成数量为 5\n",
      "批次 23 生成数量为 10\n",
      "批次 37 生成数量为 5\n",
      "批次 38 生成数量为 5\n",
      "批次 39 生成数量为 5\n",
      "批次 42 生成数量为 5\n",
      "批次 40 生成数量为 5\n",
      "批次 43 生成数量为 5\n",
      "批次 44 生成数量为 5\n",
      "批次 33 生成数量为 10\n",
      "批次 30 生成数量为 15\n",
      "批次 50 生成数量为 5\n",
      "批次 48 生成数量为 5\n",
      "批次 45 生成数量为 10\n",
      "批次 47 生成数量为 10\n",
      "批次 53 生成数量为 5\n",
      "批次 55 生成数量为 5\n",
      "批次 52 生成数量为 5\n",
      "批次 49 生成数量为 10\n",
      "批次 46 生成数量为 5\n",
      "批次 54 生成数量为 5\n",
      "批次 41 生成数量为 10\n",
      "批次 51 生成数量为 10\n",
      "批次 57 生成数量为 5\n",
      "批次 59 生成数量为 5\n",
      "批次 36 生成数量为 20\n",
      "批次 58 生成数量为 5\n",
      "批次 56 生成数量为 5\n",
      "批次 66 生成数量为 5\n",
      "批次 63 生成数量为 5\n",
      "批次 60 生成数量为 10\n",
      "批次 67 生成数量为 5\n",
      "批次 65 生成数量为 5\n",
      "批次 61 生成数量为 10\n",
      "批次 71 生成数量为 5\n",
      "批次 69 生成数量为 10\n",
      "批次 75 生成数量为 5\n",
      "批次 73 生成数量为 10\n",
      "批次 70 生成数量为 10\n",
      "批次 62 生成数量为 21\n",
      "批次 72 生成数量为 10\n",
      "批次 74 生成数量为 10\n",
      "批次 68 生成数量为 12\n",
      "批次 76 生成数量为 10\n",
      "批次 81 生成数量为 5\n",
      "批次 83 生成数量为 5\n",
      "批次 77 生成数量为 9\n",
      "批次 79 生成数量为 10\n",
      "批次 85 生成数量为 5\n",
      "批次 86 生成数量为 10\n",
      "批次 64 生成数量为 20\n",
      "批次 89 生成数量为 5\n",
      "批次 88 生成数量为 10\n",
      "批次 84 生成数量为 20\n",
      "批次 87 生成数量为 10\n",
      "批次 90 生成数量为 10\n",
      "批次 93 生成数量为 5\n",
      "批次 95 生成数量为 5\n",
      "批次 96 生成数量为 5\n",
      "批次 80 生成数量为 12\n",
      "批次 78 生成数量为 20\n",
      "批次 94 生成数量为 5\n",
      "批次 100 生成数量为 5\n",
      "批次 97 生成数量为 5\n",
      "批次 103 生成数量为 5\n",
      "批次 91 生成数量为 10\n",
      "批次 99 生成数量为 5\n",
      "批次 102 生成数量为 5\n",
      "批次 82 生成数量为 20\n",
      "批次 104 生成数量为 5\n",
      "批次 106 生成数量为 5\n",
      "批次 110 生成数量为 5\n",
      "批次 101 生成数量为 10\n",
      "批次 108 生成数量为 5\n",
      "批次 112 生成数量为 5\n",
      "批次 92 生成数量为 20\n",
      "批次 105 生成数量为 10\n",
      "批次 111 生成数量为 5\n",
      "批次 115 生成数量为 5\n",
      "批次 116 生成数量为 5\n",
      "批次 114 生成数量为 5\n",
      "批次 117 生成数量为 10\n",
      "批次 122 生成数量为 5\n",
      "批次 107 生成数量为 10\n",
      "批次 109 生成数量为 20\n",
      "批次 121 生成数量为 10\n",
      "批次 124 生成数量为 5\n",
      "批次 118 生成数量为 5\n",
      "批次 125 生成数量为 5\n",
      "批次 119 生成数量为 10\n",
      "批次 128 生成数量为 5\n",
      "批次 129 生成数量为 5\n",
      "批次 130 生成数量为 5\n",
      "批次 127 生成数量为 10\n",
      "批次 98 生成数量为 20\n",
      "批次 126 生成数量为 10\n",
      "批次 123 生成数量为 20\n",
      "批次 132 生成数量为 5\n",
      "批次 134 生成数量为 5\n",
      "批次 120 生成数量为 20\n",
      "批次 133 生成数量为 10\n",
      "批次 136 生成数量为 10\n",
      "批次 140 生成数量为 10\n",
      "批次 113 生成数量为 20\n",
      "批次 142 生成数量为 5\n",
      "批次 144 生成数量为 5\n",
      "批次 145 生成数量为 5\n",
      "批次 137 生成数量为 10\n",
      "批次 146 生成数量为 5\n",
      "批次 143 生成数量为 10\n",
      "批次 148 生成数量为 10\n",
      "批次 131 生成数量为 20\n",
      "批次 135 生成数量为 21\n",
      "批次 149 生成数量为 10\n",
      "批次 138 生成数量为 5\n",
      "批次 150 生成数量为 10\n",
      "批次 139 生成数量为 20\n",
      "批次 141 生成数量为 5\n",
      "批次 147 生成数量为 21\n",
      "完成 150/1286 个行业的处理\n",
      "总共收集了 1286 个项目\n"
     ]
    }
   ],
   "execution_count": 22
  },
  {
   "cell_type": "code",
   "id": "869fc676-1543-45b4-9f0b-5ba34fbc7529",
   "metadata": {
    "ExecuteTime": {
     "end_time": "2025-04-15T06:16:23.858526Z",
     "start_time": "2025-04-15T06:16:23.844127Z"
    }
   },
   "source": [
    "import pandas as pd\n",
    "\n",
    "table_dataset_list = []\n",
    "for item in dataset_list:\n",
    "    table_dataset_list.append({\n",
    "        \"question\": item[\"question\"],\n",
    "        \"answer\": \"|\".join(item[\"answer\"])\n",
    "    })\n",
    "df = pd.DataFrame(table_dataset_list)\n",
    "df.to_csv(\"cache/nomist_dataset.csv\", index=False, columns=[\"question\", \"answer\"])"
   ],
   "outputs": [],
   "execution_count": 23
  },
  {
   "cell_type": "code",
   "id": "4688c021-7ebe-4374-a051-e0c5c1801bb6",
   "metadata": {},
   "source": [
    "from huggingface_hub import HfApi\n",
    "\n",
    "api = HfApi(token=config.get(\"HF_TOKEN\"))\n",
    "api.upload_folder(\n",
    "    folder_path=\"./cache/\",\n",
    "    repo_id=\"MoChenYa/code-nomist-llm-dataset\",\n",
    "    repo_type=\"dataset\",\n",
    ")"
   ],
   "outputs": [],
   "execution_count": null
  }
 ],
 "metadata": {
  "kernelspec": {
   "display_name": "Python 3 (ipykernel)",
   "language": "python",
   "name": "python3"
  },
  "language_info": {
   "codemirror_mode": {
    "name": "ipython",
    "version": 3
   },
   "file_extension": ".py",
   "mimetype": "text/x-python",
   "name": "python",
   "nbconvert_exporter": "python",
   "pygments_lexer": "ipython3",
   "version": "3.11.11"
  }
 },
 "nbformat": 4,
 "nbformat_minor": 5
}
