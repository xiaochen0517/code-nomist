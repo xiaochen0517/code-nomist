{
  "cells": [
    {
      "metadata": {
        "id": "fff135a8d83b4b4"
      },
      "cell_type": "markdown",
      "source": [
        "## 模型微调"
      ],
      "id": "fff135a8d83b4b4"
    },
    {
      "metadata": {
        "id": "1b50580f7db0f8c2"
      },
      "cell_type": "markdown",
      "source": [
        "### 1. 环境准备"
      ],
      "id": "1b50580f7db0f8c2"
    },
    {
      "cell_type": "code",
      "id": "initial_id",
      "metadata": {
        "collapsed": true,
        "jupyter": {
          "outputs_hidden": true
        },
        "ExecuteTime": {
          "end_time": "2025-04-16T02:16:49.825499Z",
          "start_time": "2025-04-16T02:16:49.815496Z"
        },
        "id": "initial_id"
      },
      "source": [
        "%%capture\n",
        "import os\n",
        "\n",
        "if \"COLAB_\" in \"\".join(os.environ.keys()):\n",
        "    !pip install --no-deps bitsandbytes accelerate xformers==0.0.29.post3 peft trl==0.15.2 triton cut_cross_entropy unsloth_zoo\n",
        "    !pip install sentencepiece protobuf datasets huggingface_hub hf_transfer\n",
        "    !pip install --no-deps unsloth"
      ],
      "outputs": [],
      "execution_count": null
    },
    {
      "metadata": {
        "id": "7d302679b2d8f12a"
      },
      "cell_type": "markdown",
      "source": [
        "### 2. 下载模型"
      ],
      "id": "7d302679b2d8f12a"
    },
    {
      "metadata": {
        "ExecuteTime": {
          "end_time": "2025-04-16T02:45:16.695391Z",
          "start_time": "2025-04-16T02:45:05.727428Z"
        },
        "id": "de85de3cb231d66c",
        "outputId": "641ef444-a934-4ee1-a5cf-75302ce8cc58"
      },
      "cell_type": "code",
      "source": [
        "from unsloth import FastLanguageModel\n",
        "import torch\n",
        "\n",
        "max_seq_length = 2048  # Choose any! We auto support RoPE Scaling internally!\n",
        "dtype = None  # None for auto detection. Float16 for Tesla T4, V100, Bfloat16 for Ampere+\n",
        "load_in_4bit = True  # Use 4bit quantization to reduce memory usage. Can be False.\n",
        "\n",
        "qwen_models = [\n",
        "    \"unsloth/Qwen2.5-Coder-32B-Instruct\",  # Qwen 2.5 Coder 2x faster\n",
        "    \"unsloth/Qwen2.5-Coder-7B\",\n",
        "    \"unsloth/Qwen2.5-14B-Instruct\",  # 14B fits in a 16GB card\n",
        "    \"unsloth/Qwen2.5-7B\",\n",
        "    \"unsloth/Qwen2.5-7B-Instruct\",\n",
        "    \"unsloth/Qwen2.5-7B-Instruct-unsloth-bnb-4bit\",\n",
        "    \"unsloth/Qwen2.5-72B-Instruct\",  # 72B fits in a 48GB card\n",
        "]\n",
        "\n",
        "model, tokenizer = FastLanguageModel.from_pretrained(\n",
        "    model_name=\"unsloth/Qwen2.5-7B-Instruct\",\n",
        "    max_seq_length=max_seq_length,\n",
        "    dtype=dtype,\n",
        "    load_in_4bit=load_in_4bit,\n",
        ")"
      ],
      "id": "de85de3cb231d66c",
      "outputs": [
        {
          "name": "stderr",
          "output_type": "stream",
          "text": [
            "E:\\Code\\Projects\\code-nomist\\.venv\\Lib\\site-packages\\unsloth_zoo\\gradient_checkpointing.py:330: UserWarning: expandable_segments not supported on this platform (Triggered internally at C:\\actions-runner\\_work\\pytorch\\pytorch\\pytorch\\c10/cuda/CUDAAllocatorConfig.h:28.)\n",
            "  GPU_BUFFERS = tuple([torch.empty(2*256*2048, dtype = dtype, device = f\"cuda:{i}\") for i in range(n_gpus)])\n"
          ]
        },
        {
          "name": "stdout",
          "output_type": "stream",
          "text": [
            "==((====))==  Unsloth 2025.3.19: Fast Qwen2 patching. Transformers: 4.51.2.\n",
            "   \\\\   /|    NVIDIA GeForce RTX 4060 Ti. Num GPUs = 1. Max memory: 7.996 GB. Platform: Windows.\n",
            "O^O/ \\_/ \\    Torch: 2.6.0+cu126. CUDA: 8.9. CUDA Toolkit: 12.6. Triton: 3.2.0\n",
            "\\        /    Bfloat16 = TRUE. FA [Xformers = 0.0.29.post3. FA2 = False]\n",
            " \"-____-\"     Free license: http://github.com/unslothai/unsloth\n",
            "Unsloth: Fast downloading is enabled - ignore downloading bars which are red colored!\n"
          ]
        },
        {
          "name": "stderr",
          "output_type": "stream",
          "text": [
            "Loading checkpoint shards: 100%|██████████| 2/2 [00:03<00:00,  1.86s/it]\n"
          ]
        }
      ],
      "execution_count": null
    },
    {
      "cell_type": "markdown",
      "source": [
        "### 3. 配置 LoRA 微调参数"
      ],
      "metadata": {
        "id": "oUeimj0O3BU2"
      },
      "id": "oUeimj0O3BU2"
    },
    {
      "cell_type": "markdown",
      "source": [
        "设置 PEFT 高效微调参数，使用 Unsloth 默认参数。"
      ],
      "metadata": {
        "id": "bZvEZ4YV20zN"
      },
      "id": "bZvEZ4YV20zN"
    },
    {
      "metadata": {
        "ExecuteTime": {
          "end_time": "2025-04-16T02:45:21.751498Z",
          "start_time": "2025-04-16T02:45:19.058073Z"
        },
        "id": "95db074b106c581d",
        "outputId": "013786c6-1111-4486-f005-d3b724dc8a0e"
      },
      "cell_type": "code",
      "source": [
        "model = FastLanguageModel.get_peft_model(\n",
        "    model,\n",
        "    r=16,  # Choose any number > 0 ! Suggested 8, 16, 32, 64, 128\n",
        "    target_modules=[\"q_proj\", \"k_proj\", \"v_proj\", \"o_proj\", \"gate_proj\", \"up_proj\", \"down_proj\", ],\n",
        "    lora_alpha=16,\n",
        "    lora_dropout=0,  # Supports any, but = 0 is optimized\n",
        "    bias=\"none\",  # Supports any, but = \"none\" is optimized\n",
        "    # [NEW] \"unsloth\" uses 30% less VRAM, fits 2x larger batch sizes!\n",
        "    use_gradient_checkpointing=\"unsloth\",  # True or \"unsloth\" for very long context\n",
        "    random_state=3407,\n",
        "    use_rslora=False,  # We support rank stabilized LoRA\n",
        "    loftq_config=None,  # And LoftQ\n",
        ")"
      ],
      "id": "95db074b106c581d",
      "outputs": [
        {
          "name": "stderr",
          "output_type": "stream",
          "text": [
            "Unsloth 2025.3.19 patched 28 layers with 28 QKV layers, 28 O layers and 28 MLP layers.\n"
          ]
        }
      ],
      "execution_count": null
    },
    {
      "cell_type": "markdown",
      "source": [
        "### 4. 处理微调数据集"
      ],
      "metadata": {
        "id": "gmNxCUPn3Kdo"
      },
      "id": "gmNxCUPn3Kdo"
    },
    {
      "cell_type": "markdown",
      "source": [
        "获取聊天模板"
      ],
      "metadata": {
        "id": "mLLsW24_2yPr"
      },
      "id": "mLLsW24_2yPr"
    },
    {
      "metadata": {
        "ExecuteTime": {
          "end_time": "2025-04-16T02:45:23.238649Z",
          "start_time": "2025-04-16T02:45:23.232960Z"
        },
        "id": "819998afb8acf6dc"
      },
      "cell_type": "code",
      "source": [
        "from unsloth.chat_templates import get_chat_template\n",
        "\n",
        "tokenizer = get_chat_template(\n",
        "    tokenizer,\n",
        "    chat_template=\"qwen-2.5\",\n",
        ")\n",
        "\n",
        "\n",
        "def formatting_prompts_func(examples):\n",
        "    convos = examples[\"conversations\"]\n",
        "    texts = [tokenizer.apply_chat_template(convo, tokenize=False, add_generation_prompt=False) for convo in convos]\n",
        "    return {\"text\": texts, }"
      ],
      "id": "819998afb8acf6dc",
      "outputs": [],
      "execution_count": null
    },
    {
      "cell_type": "markdown",
      "source": [
        "加载微调数据集"
      ],
      "metadata": {
        "id": "HQHD_6tK2vIT"
      },
      "id": "HQHD_6tK2vIT"
    },
    {
      "metadata": {
        "ExecuteTime": {
          "end_time": "2025-04-16T02:55:00.404431Z",
          "start_time": "2025-04-16T02:54:56.249147Z"
        },
        "id": "a385007f77499368"
      },
      "cell_type": "code",
      "source": [
        "from datasets import load_dataset\n",
        "\n",
        "dataset = load_dataset(\"MoChenYa/code-nomist-llm-dataset\", name=\"default\", split=\"train\")"
      ],
      "id": "a385007f77499368",
      "outputs": [],
      "execution_count": null
    },
    {
      "cell_type": "markdown",
      "source": [
        "查看原始数据集的行列数"
      ],
      "metadata": {
        "id": "YFkqzTHL2r95"
      },
      "id": "YFkqzTHL2r95"
    },
    {
      "metadata": {
        "ExecuteTime": {
          "end_time": "2025-04-16T02:55:02.606844Z",
          "start_time": "2025-04-16T02:55:02.602594Z"
        },
        "id": "d2d6fbb3556d08dc",
        "outputId": "17a7e0ca-f04c-4ac5-fc2b-127f1a1af94e"
      },
      "cell_type": "code",
      "source": [
        "dataset.shape"
      ],
      "id": "d2d6fbb3556d08dc",
      "outputs": [
        {
          "data": {
            "text/plain": [
              "(1286, 2)"
            ]
          },
          "execution_count": 16,
          "metadata": {},
          "output_type": "execute_result"
        }
      ],
      "execution_count": null
    },
    {
      "cell_type": "markdown",
      "source": [
        "将数据集修改为多轮聊天的格式"
      ],
      "metadata": {
        "id": "4Cdk8I482n21"
      },
      "id": "4Cdk8I482n21"
    },
    {
      "metadata": {
        "ExecuteTime": {
          "end_time": "2025-04-16T02:55:25.964381Z",
          "start_time": "2025-04-16T02:55:25.902963Z"
        },
        "id": "684a6e7c28b812f5",
        "outputId": "6aa737b4-e5c2-40fb-dc25-b0b0081605dd"
      },
      "cell_type": "code",
      "source": [
        "system_prompt_content = \"请充当一个代码命名助手，请根据用户给出的项目信息和具体需求生成多个命名建议，名称之间使用 | 分隔，注意不要生成其他任何内容。\"\n",
        "\n",
        "\n",
        "def formatting_dateset_table2conv_func(examples):\n",
        "    system_prompt = {\n",
        "        \"role\": \"system\",\n",
        "        \"content\": system_prompt_content,\n",
        "    }\n",
        "    user_messages = {\n",
        "        \"role\": \"user\",\n",
        "        \"content\": examples[\"question\"],\n",
        "    }\n",
        "    assistant_messages = {\n",
        "        \"role\": \"assistant\",\n",
        "        \"content\": examples[\"answer\"],\n",
        "    }\n",
        "    conversations = [system_prompt, user_messages, assistant_messages]\n",
        "    return {\"conversations\": conversations}\n",
        "\n",
        "\n",
        "dataset = dataset.map(formatting_dateset_table2conv_func)"
      ],
      "id": "684a6e7c28b812f5",
      "outputs": [
        {
          "name": "stderr",
          "output_type": "stream",
          "text": [
            "Map: 100%|██████████| 1286/1286 [00:00<00:00, 23625.22 examples/s]\n"
          ]
        }
      ],
      "execution_count": null
    },
    {
      "cell_type": "markdown",
      "source": [
        "将聊天模板应用到数据集中"
      ],
      "metadata": {
        "id": "cMsIGcY32hgc"
      },
      "id": "cMsIGcY32hgc"
    },
    {
      "metadata": {
        "ExecuteTime": {
          "end_time": "2025-04-16T02:55:39.845136Z",
          "start_time": "2025-04-16T02:55:28.590212Z"
        },
        "id": "854074ed1e343296",
        "outputId": "f996ccc9-34c1-40b1-99e2-17753d2314df"
      },
      "cell_type": "code",
      "source": [
        "from unsloth.chat_templates import standardize_sharegpt\n",
        "\n",
        "dataset = standardize_sharegpt(dataset)\n",
        "dataset = dataset.map(formatting_prompts_func, batched=True, )"
      ],
      "id": "854074ed1e343296",
      "outputs": [
        {
          "name": "stderr",
          "output_type": "stream",
          "text": [
            "Unsloth: Standardizing formats (num_proc=12): 100%|██████████| 1286/1286 [00:09<00:00, 133.53 examples/s]\n",
            "Map: 100%|██████████| 1286/1286 [00:00<00:00, 12777.42 examples/s]\n"
          ]
        }
      ],
      "execution_count": null
    },
    {
      "cell_type": "markdown",
      "source": [
        "查看首个数据检查是否成功格式化"
      ],
      "metadata": {
        "id": "Me7-i0k62cQg"
      },
      "id": "Me7-i0k62cQg"
    },
    {
      "metadata": {
        "ExecuteTime": {
          "end_time": "2025-04-16T02:55:43.172813Z",
          "start_time": "2025-04-16T02:55:43.166444Z"
        },
        "id": "d1aec66695578e0c",
        "outputId": "4b142d85-2da6-4c20-e6ff-62076566cd0b"
      },
      "cell_type": "code",
      "source": [
        "dataset[0]"
      ],
      "id": "d1aec66695578e0c",
      "outputs": [
        {
          "data": {
            "text/plain": [
              "{'question': '项目类型：销售管理系统；项目介绍：跟踪销售活动，提高销售业绩和预测准确性。；当前模块：销售预测模块；目标名称类型：函数名；格式化类型：驼峰命名（首字母小写）；目标描述：获取销售预测数据；生成数量：5；',\n",
              " 'answer': 'getSalesForecast|fetchSalesPrediction|retrieveForecastData|obtainSalesForecast|acquirePredictionData',\n",
              " 'conversations': [{'content': '请充当一个代码命名助手，请根据用户给出的项目信息和具体需求生成多个命名建议，名称之间使用 | 分隔，注意不要生成其他任何内容。',\n",
              "   'role': 'system'},\n",
              "  {'content': '项目类型：销售管理系统；项目介绍：跟踪销售活动，提高销售业绩和预测准确性。；当前模块：销售预测模块；目标名称类型：函数名；格式化类型：驼峰命名（首字母小写）；目标描述：获取销售预测数据；生成数量：5；',\n",
              "   'role': 'user'},\n",
              "  {'content': 'getSalesForecast|fetchSalesPrediction|retrieveForecastData|obtainSalesForecast|acquirePredictionData',\n",
              "   'role': 'assistant'}],\n",
              " 'text': '<|im_start|>system\\n请充当一个代码命名助手，请根据用户给出的项目信息和具体需求生成多个命名建议，名称之间使用 | 分隔，注意不要生成其他任何内容。<|im_end|>\\n<|im_start|>user\\n项目类型：销售管理系统；项目介绍：跟踪销售活动，提高销售业绩和预测准确性。；当前模块：销售预测模块；目标名称类型：函数名；格式化类型：驼峰命名（首字母小写）；目标描述：获取销售预测数据；生成数量：5；<|im_end|>\\n<|im_start|>assistant\\ngetSalesForecast|fetchSalesPrediction|retrieveForecastData|obtainSalesForecast|acquirePredictionData<|im_end|>\\n'}"
            ]
          },
          "execution_count": 20,
          "metadata": {},
          "output_type": "execute_result"
        }
      ],
      "execution_count": null
    },
    {
      "metadata": {
        "id": "7ae89014489a054"
      },
      "cell_type": "markdown",
      "source": [
        "### 5. 训练模型"
      ],
      "id": "7ae89014489a054"
    },
    {
      "cell_type": "markdown",
      "source": [
        "获取 Huggingface 的 SFT 训练器"
      ],
      "metadata": {
        "id": "2RotSOsN2Wa6"
      },
      "id": "2RotSOsN2Wa6"
    },
    {
      "metadata": {
        "ExecuteTime": {
          "end_time": "2025-04-16T02:56:15.910528Z",
          "start_time": "2025-04-16T02:56:15.251778Z"
        },
        "id": "8f5d3802d9da51b9",
        "outputId": "13bf2653-3e4c-410c-9ea5-e955ebc22a98"
      },
      "cell_type": "code",
      "source": [
        "from trl import SFTTrainer\n",
        "from transformers import TrainingArguments, DataCollatorForSeq2Seq\n",
        "from unsloth import is_bfloat16_supported\n",
        "\n",
        "trainer = SFTTrainer(\n",
        "    model=model,\n",
        "    tokenizer=tokenizer,\n",
        "    train_dataset=dataset,\n",
        "    dataset_text_field=\"text\",\n",
        "    max_seq_length=max_seq_length,\n",
        "    data_collator=DataCollatorForSeq2Seq(tokenizer=tokenizer),\n",
        "    dataset_num_proc=1,\n",
        "    packing=False,  # Can make training 5x faster for short sequences.\n",
        "    args=TrainingArguments(\n",
        "        per_device_train_batch_size=1,\n",
        "        gradient_accumulation_steps=4,  # Fixed major bug in latest Unsloth\n",
        "        warmup_steps=5,\n",
        "        # num_train_epochs = 1, # Set this for 1 full training run.\n",
        "        max_steps=30,\n",
        "        learning_rate=2e-4,\n",
        "        fp16=not is_bfloat16_supported(),\n",
        "        bf16=is_bfloat16_supported(),\n",
        "        logging_steps=1,\n",
        "        optim=\"paged_adamw_8bit\",  # Save more memory\n",
        "        weight_decay=0.01,\n",
        "        lr_scheduler_type=\"linear\",\n",
        "        seed=3407,\n",
        "        output_dir=\"outputs\",\n",
        "        report_to=\"none\",  # Use this for WandB etc\n",
        "    ),\n",
        ")"
      ],
      "id": "8f5d3802d9da51b9",
      "outputs": [
        {
          "name": "stderr",
          "output_type": "stream",
          "text": [
            "Unsloth: Tokenizing [\"text\"]: 100%|██████████| 1286/1286 [00:00<00:00, 4474.65 examples/s]\n"
          ]
        }
      ],
      "execution_count": null
    },
    {
      "cell_type": "markdown",
      "source": [
        "设置只在响应内容上进行损失计算"
      ],
      "metadata": {
        "id": "ystvaQ5Y2Qno"
      },
      "id": "ystvaQ5Y2Qno"
    },
    {
      "metadata": {
        "ExecuteTime": {
          "end_time": "2025-04-16T02:56:29.803108Z",
          "start_time": "2025-04-16T02:56:18.534854Z"
        },
        "id": "c96b44301bdc2abe",
        "outputId": "2400ac80-80e0-41ea-d4fa-7a7bb176165b"
      },
      "cell_type": "code",
      "source": [
        "from unsloth.chat_templates import train_on_responses_only\n",
        "\n",
        "trainer = train_on_responses_only(\n",
        "    trainer,\n",
        "    instruction_part=\"<|im_start|>user\\n\",\n",
        "    response_part=\"<|im_start|>assistant\\n\",\n",
        ")"
      ],
      "id": "c96b44301bdc2abe",
      "outputs": [
        {
          "name": "stderr",
          "output_type": "stream",
          "text": [
            "Map (num_proc=12): 100%|██████████| 1286/1286 [00:09<00:00, 130.87 examples/s]\n"
          ]
        }
      ],
      "execution_count": null
    },
    {
      "cell_type": "markdown",
      "source": [
        "查看设置效果"
      ],
      "metadata": {
        "id": "JpHKtOIJ2Kbd"
      },
      "id": "JpHKtOIJ2Kbd"
    },
    {
      "metadata": {
        "ExecuteTime": {
          "end_time": "2025-04-16T02:57:16.859321Z",
          "start_time": "2025-04-16T02:57:16.849856Z"
        },
        "id": "6a7fbd7eb16153db",
        "outputId": "6c9cf192-391b-4aab-bd3b-e39c8534a9f6"
      },
      "cell_type": "code",
      "source": [
        "tokenizer.decode(trainer.train_dataset[0][\"input_ids\"])"
      ],
      "id": "6a7fbd7eb16153db",
      "outputs": [
        {
          "data": {
            "text/plain": [
              "'<|im_start|>system\\n请充当一个代码命名助手，请根据用户给出的项目信息和具体需求生成多个命名建议，名称之间使用 | 分隔，注意不要生成其他任何内容。<|im_end|>\\n<|im_start|>user\\n项目类型：销售管理系统；项目介绍：跟踪销售活动，提高销售业绩和预测准确性。；当前模块：销售预测模块；目标名称类型：函数名；格式化类型：驼峰命名（首字母小写）；目标描述：获取销售预测数据；生成数量：5；<|im_end|>\\n<|im_start|>assistant\\ngetSalesForecast|fetchSalesPrediction|retrieveForecastData|obtainSalesForecast|acquirePredictionData<|im_end|>\\n'"
            ]
          },
          "execution_count": 23,
          "metadata": {},
          "output_type": "execute_result"
        }
      ],
      "execution_count": null
    },
    {
      "metadata": {
        "ExecuteTime": {
          "end_time": "2025-04-16T02:57:20.932629Z",
          "start_time": "2025-04-16T02:57:20.926081Z"
        },
        "id": "531545572bd32816",
        "outputId": "2ca07759-9152-4771-ec49-ba964eeec836"
      },
      "cell_type": "code",
      "source": [
        "space = tokenizer(\" \", add_special_tokens=False).input_ids[0]\n",
        "tokenizer.decode([space if x == -100 else x for x in trainer.train_dataset[0][\"labels\"]])"
      ],
      "id": "531545572bd32816",
      "outputs": [
        {
          "data": {
            "text/plain": [
              "'                                                                                                              getSalesForecast|fetchSalesPrediction|retrieveForecastData|obtainSalesForecast|acquirePredictionData<|im_end|>\\n'"
            ]
          },
          "execution_count": 24,
          "metadata": {},
          "output_type": "execute_result"
        }
      ],
      "execution_count": null
    },
    {
      "cell_type": "markdown",
      "source": [
        "开始训练"
      ],
      "metadata": {
        "id": "ZZURW6Yg2IJn"
      },
      "id": "ZZURW6Yg2IJn"
    },
    {
      "metadata": {
        "jupyter": {
          "is_executing": true
        },
        "ExecuteTime": {
          "start_time": "2025-04-16T02:57:33.096362Z"
        },
        "id": "e0e0a2c104acf20",
        "outputId": "693323f6-4bbe-44fb-a2b3-51b8a3e24109"
      },
      "cell_type": "code",
      "source": [
        "trainer_stats = trainer.train()"
      ],
      "id": "e0e0a2c104acf20",
      "outputs": [
        {
          "name": "stderr",
          "output_type": "stream",
          "text": [
            "==((====))==  Unsloth - 2x faster free finetuning | Num GPUs used = 1\n",
            "   \\\\   /|    Num examples = 1,286 | Num Epochs = 1 | Total steps = 30\n",
            "O^O/ \\_/ \\    Batch size per device = 1 | Gradient accumulation steps = 4\n",
            "\\        /    Data Parallel GPUs = 1 | Total batch size (1 x 4 x 1) = 4\n",
            " \"-____-\"     Trainable parameters = 40,370,176/7,000,000,000 (0.58% trained)\n"
          ]
        },
        {
          "data": {
            "text/plain": [
              "<IPython.core.display.HTML object>"
            ],
            "text/html": [
              "\n",
              "    <div>\n",
              "      \n",
              "      <progress value='19' max='30' style='width:300px; height:20px; vertical-align: middle;'></progress>\n",
              "      [19/30 15:18 < 09:54, 0.02 it/s, Epoch 0.06/1]\n",
              "    </div>\n",
              "    <table border=\"1\" class=\"dataframe\">\n",
              "  <thead>\n",
              " <tr style=\"text-align: left;\">\n",
              "      <th>Step</th>\n",
              "      <th>Training Loss</th>\n",
              "    </tr>\n",
              "  </thead>\n",
              "  <tbody>\n",
              "    <tr>\n",
              "      <td>1</td>\n",
              "      <td>0.959500</td>\n",
              "    </tr>\n",
              "    <tr>\n",
              "      <td>2</td>\n",
              "      <td>1.788400</td>\n",
              "    </tr>\n",
              "    <tr>\n",
              "      <td>3</td>\n",
              "      <td>1.504900</td>\n",
              "    </tr>\n",
              "    <tr>\n",
              "      <td>4</td>\n",
              "      <td>1.303600</td>\n",
              "    </tr>\n",
              "    <tr>\n",
              "      <td>5</td>\n",
              "      <td>1.049600</td>\n",
              "    </tr>\n",
              "    <tr>\n",
              "      <td>6</td>\n",
              "      <td>1.278100</td>\n",
              "    </tr>\n",
              "    <tr>\n",
              "      <td>7</td>\n",
              "      <td>1.357900</td>\n",
              "    </tr>\n",
              "    <tr>\n",
              "      <td>8</td>\n",
              "      <td>1.166600</td>\n",
              "    </tr>\n",
              "    <tr>\n",
              "      <td>9</td>\n",
              "      <td>1.033000</td>\n",
              "    </tr>\n",
              "    <tr>\n",
              "      <td>10</td>\n",
              "      <td>0.820100</td>\n",
              "    </tr>\n",
              "    <tr>\n",
              "      <td>11</td>\n",
              "      <td>0.671200</td>\n",
              "    </tr>\n",
              "    <tr>\n",
              "      <td>12</td>\n",
              "      <td>0.992200</td>\n",
              "    </tr>\n",
              "    <tr>\n",
              "      <td>13</td>\n",
              "      <td>1.016700</td>\n",
              "    </tr>\n",
              "    <tr>\n",
              "      <td>14</td>\n",
              "      <td>0.787200</td>\n",
              "    </tr>\n",
              "    <tr>\n",
              "      <td>15</td>\n",
              "      <td>0.657300</td>\n",
              "    </tr>\n",
              "    <tr>\n",
              "      <td>16</td>\n",
              "      <td>0.571400</td>\n",
              "    </tr>\n",
              "    <tr>\n",
              "      <td>17</td>\n",
              "      <td>0.792800</td>\n",
              "    </tr>\n",
              "  </tbody>\n",
              "</table><p>"
            ]
          },
          "metadata": {},
          "output_type": "display_data"
        }
      ],
      "execution_count": null
    },
    {
      "metadata": {
        "id": "1b3726038cbed9a1"
      },
      "cell_type": "markdown",
      "source": [
        "### 6. 测试模型"
      ],
      "id": "1b3726038cbed9a1"
    },
    {
      "cell_type": "markdown",
      "source": [
        "#### 6.1. 读取已保存的适配器（可选）"
      ],
      "metadata": {
        "id": "Hz47aOsn1oYX"
      },
      "id": "Hz47aOsn1oYX"
    },
    {
      "cell_type": "code",
      "source": [
        "from unsloth import FastLanguageModel\n",
        "model, tokenizer = FastLanguageModel.from_pretrained(\n",
        "    model_name = \"lora_model\", # YOUR MODEL YOU USED FOR TRAINING\n",
        "    max_seq_length = max_seq_length,\n",
        "    dtype = dtype,\n",
        "    load_in_4bit = load_in_4bit,\n",
        ")\n",
        "FastLanguageModel.for_inference(model) # Enable native 2x faster inference"
      ],
      "metadata": {
        "id": "xl-CCsTD1oCa"
      },
      "id": "xl-CCsTD1oCa",
      "execution_count": null,
      "outputs": []
    },
    {
      "cell_type": "markdown",
      "source": [
        "#### 6.2. 定义消息生成函数"
      ],
      "metadata": {
        "id": "Tia6oHpA1zPm"
      },
      "id": "Tia6oHpA1zPm"
    },
    {
      "metadata": {
        "id": "90a66f8662404b13"
      },
      "cell_type": "code",
      "outputs": [],
      "execution_count": null,
      "source": [
        "def create_user_content(name, introduce, module, target_type, format_type, target_desc, num):\n",
        "    return f\"项目类型：{name}；项目介绍：{introduce}；当前模块：{module}；目标名称类型：{target_type}；格式化类型：{format_type}；目标描述：{target_desc}；生成数量：{num}；\""
      ],
      "id": "90a66f8662404b13"
    },
    {
      "metadata": {
        "id": "c1994eecac8d940c"
      },
      "cell_type": "code",
      "outputs": [],
      "execution_count": null,
      "source": [
        "from unsloth.chat_templates import get_chat_template\n",
        "\n",
        "tokenizer = get_chat_template(\n",
        "    tokenizer,\n",
        "    chat_template=\"qwen-2.5\",\n",
        ")\n",
        "FastLanguageModel.for_inference(model)  # Enable native 2x faster inference\n",
        "\n",
        "def test_message(*args):\n",
        "    messages = [\n",
        "        {\"role\": \"system\", \"content\": system_prompt_content},\n",
        "        {\"role\": \"user\", \"content\": create_user_content(*args)},\n",
        "    ]\n",
        "    inputs = tokenizer.apply_chat_template(\n",
        "        messages,\n",
        "        tokenize=True,\n",
        "        add_generation_prompt=True,  # Must add for generation\n",
        "        return_tensors=\"pt\",\n",
        "    ).to(\"cuda\")\n",
        "\n",
        "    outputs = model.generate(input_ids=inputs, max_new_tokens=64, use_cache=True, temperature=1.7, min_p=0.1)\n",
        "    tokenizer.batch_decode(outputs)"
      ],
      "id": "c1994eecac8d940c"
    },
    {
      "cell_type": "markdown",
      "source": [
        "#### 6.3. 测试用例"
      ],
      "metadata": {
        "id": "7-_1mogW16Hh"
      },
      "id": "7-_1mogW16Hh"
    },
    {
      "metadata": {
        "id": "8c7efd05d5b75a60"
      },
      "cell_type": "code",
      "outputs": [],
      "execution_count": null,
      "source": [
        "test_message(\n",
        "    name=\"在线教育平台\",\n",
        "    introduce=\"在线教育平台是一个提供在线学习和教学服务的网站或应用程序，用户可以通过它访问各种课程、学习资源和教师支持。\",\n",
        "    module=\"课程管理\",\n",
        "    target_type=\"课程名称\",\n",
        "    format_type=\"简化\",\n",
        "    target_desc=\"课程的名称或标题\",\n",
        "    num=5,\n",
        ")"
      ],
      "id": "8c7efd05d5b75a60"
    },
    {
      "metadata": {
        "id": "f49edc7871a15821"
      },
      "cell_type": "markdown",
      "source": [
        "### 7. 保存模型"
      ],
      "id": "f49edc7871a15821"
    },
    {
      "cell_type": "markdown",
      "source": [
        "#### 7.1. 配置参数"
      ],
      "metadata": {
        "id": "lgzwB9JW3llI"
      },
      "id": "lgzwB9JW3llI"
    },
    {
      "metadata": {
        "id": "6af6149fc0f5195c"
      },
      "cell_type": "code",
      "outputs": [],
      "execution_count": null,
      "source": [
        "new_model_name = \"CodeNomist-Qwen2.5-7B-Instruct-unsloth\"\n",
        "hf_repo = \"MoChenYa/CodeNomist-Qwen2.5-7B-Instruct-unsloth\"\n",
        "hf_token = \"hf_...\""
      ],
      "id": "6af6149fc0f5195c"
    },
    {
      "metadata": {
        "id": "a2e21e2fc17725ba"
      },
      "cell_type": "markdown",
      "source": [
        "#### 7.2. 保存适配器"
      ],
      "id": "a2e21e2fc17725ba"
    },
    {
      "metadata": {
        "id": "ddf320c8364aac33"
      },
      "cell_type": "code",
      "outputs": [],
      "execution_count": null,
      "source": [
        "if \"COLAB_\" in \"\".join(os.environ.keys()):\n",
        "    model.push_to_hub(hf_repo, token = hf_token) # Online saving\n",
        "    tokenizer.push_to_hub(hf_repo, token = hf_token) # Online saving\n",
        "else:\n",
        "    model.save_pretrained(new_model_name)\n",
        "    tokenizer.save_pretrained(new_model_name)"
      ],
      "id": "ddf320c8364aac33"
    },
    {
      "metadata": {
        "id": "3d7eb06ad6eaf040"
      },
      "cell_type": "markdown",
      "source": [
        "#### 7.3. 合并适配器保存到本地"
      ],
      "id": "3d7eb06ad6eaf040"
    },
    {
      "metadata": {
        "id": "d94ac715ac6d8343"
      },
      "cell_type": "code",
      "outputs": [],
      "execution_count": null,
      "source": [
        "model.save_pretrained_merged(new_model_name, tokenizer)\n",
        "\n",
        "if \"COLAB_\" in \"\".join(os.environ.keys()):\n",
        "    model.push_to_hub_merged(hf_repo, tokenizer, save_method = \"merged_16bit\", token = \"\")"
      ],
      "id": "d94ac715ac6d8343"
    },
    {
      "cell_type": "markdown",
      "source": [
        "#### 7.4. 保存或推送gguf格式"
      ],
      "metadata": {
        "id": "m-6Bby5-19Qy"
      },
      "id": "m-6Bby5-19Qy"
    },
    {
      "metadata": {
        "id": "f6a2c352cf7afd26"
      },
      "cell_type": "code",
      "outputs": [],
      "execution_count": null,
      "source": [
        "if \"COLAB_\" in \"\".join():\n",
        "    model.push_to_hub_gguf(\n",
        "        hf_repo,\n",
        "        tokenizer,\n",
        "        quantization_method = [\"f16\", \"q8_0\"],\n",
        "        token = hf_token,\n",
        "    )\n",
        "else:\n",
        "    model.save_pretrained_gguf(new_model_name, tokenizer)"
      ],
      "id": "f6a2c352cf7afd26"
    }
  ],
  "metadata": {
    "kernelspec": {
      "display_name": "Python 3 (ipykernel)",
      "language": "python",
      "name": "python3"
    },
    "language_info": {
      "codemirror_mode": {
        "name": "ipython",
        "version": 3
      },
      "file_extension": ".py",
      "mimetype": "text/x-python",
      "name": "python",
      "nbconvert_exporter": "python",
      "pygments_lexer": "ipython3",
      "version": "3.11.11"
    },
    "colab": {
      "provenance": [],
      "toc_visible": true
    }
  },
  "nbformat": 4,
  "nbformat_minor": 5
}